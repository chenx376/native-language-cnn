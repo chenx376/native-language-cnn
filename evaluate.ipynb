{
 "cells": [
  {
   "cell_type": "markdown",
   "metadata": {},
   "source": [
    "# Evaluate"
   ]
  },
  {
   "cell_type": "code",
   "execution_count": 25,
   "metadata": {
    "collapsed": true
   },
   "outputs": [],
   "source": [
    "import logging\n",
    "from os import listdir\n",
    "from os.path import join\n",
    "import pickle\n",
    "\n",
    "import torch\n",
    "from torch.autograd import Variable\n",
    "import numpy as np\n",
    "from sklearn.metrics import f1_score, confusion_matrix\n",
    "\n",
    "from train import read_data\n",
    "from model import NativeLanguageCNN"
   ]
  },
  {
   "cell_type": "markdown",
   "metadata": {},
   "source": [
    "## Read dev set data"
   ]
  },
  {
   "cell_type": "code",
   "execution_count": 4,
   "metadata": {
    "collapsed": true
   },
   "outputs": [],
   "source": [
    "feature_dir = \"data/features/speech_transcriptions/ngrams/2\"\n",
    "label = \"data/labels/dev/labels.dev.csv\"\n",
    "\n",
    "max_length = 200"
   ]
  },
  {
   "cell_type": "code",
   "execution_count": 40,
   "metadata": {
    "collapsed": false
   },
   "outputs": [
    {
     "name": "stdout",
     "output_type": "stream",
     "text": [
      "(4244, 200)\n",
      "4244\n"
     ]
    }
   ],
   "source": [
    "# Read feature dictionary\n",
    "with open(join(feature_dir, 'dict.pkl'), 'rb') as fpkl:\n",
    "    (feature_dict, feature_rev_dict) = pickle.load(fpkl)\n",
    "n_features = len(feature_dict)\n",
    "\n",
    "# Read dev set data + labels\n",
    "(dev_mat, dev_label, lang_dict) = read_data(join(feature_dir, 'dev'),\n",
    "                                            label, max_length, n_features)\n",
    "dev_lang = [lang_dict[lb] for lb in dev_label]\n",
    "n_lang = len(lang_dict)\n",
    "print(dev_mat.shape)\n",
    "print(len(dev_label))"
   ]
  },
  {
   "cell_type": "markdown",
   "metadata": {},
   "source": [
    "## Restore model from state"
   ]
  },
  {
   "cell_type": "code",
   "execution_count": 34,
   "metadata": {
    "collapsed": true
   },
   "outputs": [],
   "source": [
    "model_state_file = \"model/2017-05-30-153741/model-state-0020.pkl\"\n",
    "\n",
    "max_length = 200\n",
    "embed_dim = 500\n",
    "channel = 500"
   ]
  },
  {
   "cell_type": "code",
   "execution_count": 35,
   "metadata": {
    "collapsed": true
   },
   "outputs": [],
   "source": [
    "def restore_model(model_state_file, max_length, embed_dim, channel, cuda=False):\n",
    "    nlcnn_model = NativeLanguageCNN(n_features, embed_dim, 0, channel, n_lang)\n",
    "    nlcnn_model.load_state_dict(torch.load(model_state_file))\n",
    "    nlcnn_model.eval()\n",
    "    if cuda:\n",
    "        nlcnn_model.cuda()\n",
    "    return nlcnn_model"
   ]
  },
  {
   "cell_type": "code",
   "execution_count": 36,
   "metadata": {
    "collapsed": false
   },
   "outputs": [],
   "source": [
    "nlcnn_model = restore_model(model_state_file, max_length, embed_dim, channel)"
   ]
  },
  {
   "cell_type": "markdown",
   "metadata": {},
   "source": [
    "## Evaluate restored model"
   ]
  },
  {
   "cell_type": "code",
   "execution_count": 37,
   "metadata": {
    "collapsed": true
   },
   "outputs": [],
   "source": [
    "def evaluate_model(model, dev_mat, dev_label, lang_dict, cuda=False):\n",
    "    dev_lang = [lang_dict[lb] for lb in dev_label]\n",
    "    dev_mat_var = Variable(torch.from_numpy(dev_mat).cuda() if cuda\n",
    "                           else torch.from_numpy(dev_mat))\n",
    "    dev_score = model(dev_mat_var)\n",
    "    dev_pred = np.argmax(dev_score.data.cpu().numpy(), axis=1)\n",
    "    dev_pred_lang = [lang_dict[lb] for lb in dev_pred]\n",
    "    \n",
    "    conf_mat = confusion_matrix(dev_lang, dev_pred_lang)\n",
    "    f1 = f1_score(dev_lang, dev_pred_lang, average='weighted')\n",
    "    return (conf_mat, f1)"
   ]
  },
  {
   "cell_type": "code",
   "execution_count": 38,
   "metadata": {
    "collapsed": false
   },
   "outputs": [],
   "source": [
    "(conf_mat, f1) = evaluate_model(nlcnn_model, dev_mat, dev_label, lang_dict)"
   ]
  },
  {
   "cell_type": "code",
   "execution_count": 41,
   "metadata": {
    "collapsed": false
   },
   "outputs": [
    {
     "data": {
      "text/plain": [
       "array([[88, 16, 40, 38, 32, 45, 14, 24, 27, 42, 18],\n",
       "       [69, 26, 38, 31, 38, 38, 28, 32, 22, 40, 25],\n",
       "       [75, 19, 39, 27, 34, 39, 23, 36, 20, 39, 26],\n",
       "       [74, 31, 34, 36, 32, 41, 20, 34, 23, 34, 17],\n",
       "       [70, 12, 46, 29, 29, 48, 14, 31, 27, 57, 30],\n",
       "       [75, 22, 45, 22, 46, 42, 23, 31, 19, 40, 32],\n",
       "       [60, 24, 37, 38, 36, 43, 21, 33, 29, 47, 22],\n",
       "       [82, 22, 38, 34, 37, 25, 22, 36, 22, 44, 37],\n",
       "       [78, 15, 54, 37, 35, 31, 14, 36, 22, 43, 25],\n",
       "       [53, 25, 44, 48, 28, 46, 20, 26, 40, 35, 20],\n",
       "       [77, 20, 36, 32, 33, 34, 22, 31, 20, 42, 19]])"
      ]
     },
     "execution_count": 41,
     "metadata": {},
     "output_type": "execute_result"
    }
   ],
   "source": [
    "conf_mat"
   ]
  },
  {
   "cell_type": "code",
   "execution_count": 42,
   "metadata": {
    "collapsed": false
   },
   "outputs": [
    {
     "data": {
      "text/plain": [
       "0.088525796331743206"
      ]
     },
     "execution_count": 42,
     "metadata": {},
     "output_type": "execute_result"
    }
   ],
   "source": [
    "f1"
   ]
  },
  {
   "cell_type": "code",
   "execution_count": null,
   "metadata": {
    "collapsed": true
   },
   "outputs": [],
   "source": []
  }
 ],
 "metadata": {
  "kernelspec": {
   "display_name": "Python 3",
   "language": "python",
   "name": "python3"
  },
  "language_info": {
   "codemirror_mode": {
    "name": "ipython",
    "version": 3
   },
   "file_extension": ".py",
   "mimetype": "text/x-python",
   "name": "python",
   "nbconvert_exporter": "python",
   "pygments_lexer": "ipython3",
   "version": "3.6.0"
  }
 },
 "nbformat": 4,
 "nbformat_minor": 2
}
