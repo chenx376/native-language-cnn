{
 "cells": [
  {
   "cell_type": "markdown",
   "metadata": {},
   "source": [
    "# Hyperparameter Tuning"
   ]
  },
  {
   "cell_type": "code",
   "execution_count": 1,
   "metadata": {
    "collapsed": true
   },
   "outputs": [],
   "source": [
    "from train import *\n",
    "from types import SimpleNamespace"
   ]
  },
  {
   "cell_type": "code",
   "execution_count": 2,
   "metadata": {
    "collapsed": false
   },
   "outputs": [
    {
     "name": "stderr",
     "output_type": "stream",
     "text": [
      "usage: __main__.py [-h] [--lr LR] [--seed SEED]\n",
      "                   [--regularization REGULARIZATION] [--clip-norm CLIP_NORM]\n",
      "                   [--dropout DROPOUT] [--num-epochs NUM_EPOCHS]\n",
      "                   [--batch-size BATCH_SIZE] [--val-split VAL_SPLIT]\n",
      "                   [--max-length MAX_LENGTH] [--embed-dim EMBED_DIM]\n",
      "                   [--channel CHANNEL] [--feature-dir FEATURE_DIR]\n",
      "                   [--log-dir LOG_DIR] [--save-every SAVE_EVERY]\n",
      "                   [--label LABEL] [--gpu]\n",
      "__main__.py: error: unrecognized arguments: -f /run/user/1001/jupyter/kernel-e1d6e29b-ec99-4c5e-be9b-f9406e2fda34.json\n"
     ]
    },
    {
     "ename": "SystemExit",
     "evalue": "2",
     "output_type": "error",
     "traceback": [
      "An exception has occurred, use %tb to see the full traceback.\n",
      "\u001b[0;31mSystemExit\u001b[0m\u001b[0;31m:\u001b[0m 2\n"
     ]
    },
    {
     "name": "stderr",
     "output_type": "stream",
     "text": [
      "/usr/lib/anaconda3/envs/sergey/lib/python3.6/site-packages/IPython/core/interactiveshell.py:2889: UserWarning: To exit: use 'exit', 'quit', or Ctrl-D.\n",
      "  warn(\"To exit: use 'exit', 'quit', or Ctrl-D.\", stacklevel=1)\n"
     ]
    }
   ],
   "source": [
    "# Defaults arguments\n",
    "args = SimpleNamespace()\n",
    "\n",
    "args.lr = 1e_4\n",
    "args.seed = 224\n",
    "args.regularization = 0\n",
    "args.clip_norm\n",
    "args.dropout\n",
    "args.num_epochs\n",
    "args.batch_size\n",
    "args.val_split\n",
    "args.max_length\n",
    "args.embed_dim\n",
    "args.channel\n",
    "args.feature_dir\n",
    "args.label = \n",
    "args.gpu = True"
   ]
  },
  {
   "cell_type": "code",
   "execution_count": 6,
   "metadata": {
    "collapsed": false
   },
   "outputs": [
    {
     "data": {
      "text/plain": [
       "0.0001"
      ]
     },
     "execution_count": 6,
     "metadata": {},
     "output_type": "execute_result"
    }
   ],
   "source": [
    "args.lr"
   ]
  },
  {
   "cell_type": "code",
   "execution_count": null,
   "metadata": {
    "collapsed": true
   },
   "outputs": [],
   "source": []
  }
 ],
 "metadata": {
  "kernelspec": {
   "display_name": "Python 3",
   "language": "python",
   "name": "python3"
  }
 },
 "nbformat": 4,
 "nbformat_minor": 2
}
