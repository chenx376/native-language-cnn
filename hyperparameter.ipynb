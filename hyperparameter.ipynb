{
 "cells": [
  {
   "cell_type": "markdown",
   "metadata": {},
   "source": [
    "# Hyperparameter Search"
   ]
  },
  {
   "cell_type": "code",
   "execution_count": 14,
   "metadata": {
    "collapsed": true
   },
   "outputs": [],
   "source": [
    "from train import *\n",
    "from types import SimpleNamespace\n",
    "from copy import deepcopy\n",
    "import torch.multiprocessing as mp\n",
    "from os.path import join\n",
    "from os import makedirs\n",
    "import pickle"
   ]
  },
  {
   "cell_type": "code",
   "execution_count": 3,
   "metadata": {
    "collapsed": false
   },
   "outputs": [],
   "source": [
    "# Defaults arguments\n",
    "args = SimpleNamespace()\n",
    "\n",
    "args.lr = 1e-4\n",
    "args.seed = 224\n",
    "args.regularization = 0\n",
    "args.clip_norm = None\n",
    "args.dropout = 0.25\n",
    "args.num_epochs = 10\n",
    "args.batch_size = 25\n",
    "args.val_split = 0.0909\n",
    "args.max_length = 200\n",
    "args.embed_dim = 500\n",
    "args.channel = 500\n",
    "args.feature_dir = 'data/features/speech_transcriptions/ngrams/2'\n",
    "args.label = 'data/labels/train/labels.train.csv'\n",
    "args.save_every = 10\n",
    "args.cuda = 0"
   ]
  },
  {
   "cell_type": "code",
   "execution_count": 16,
   "metadata": {
    "collapsed": false
   },
   "outputs": [],
   "source": [
    "def try_model(lr, reg, do, cuda=0):\n",
    "    log_dir = join(\"hyperparameter\", \"lr-{:1.1e}_reg-{:1.1e}_do-{:1.2f}\".format(lr, reg, do))\n",
    "    makedirs(log_dir)\n",
    "    \n",
    "    logging.basicConfig(filename=join(log_dir, strftime(\"%Y-%m-%d-%H%M%S\") + \".log\"),\n",
    "                        format='[%(asctime)s] {%(pathname)s:%(lineno)3d} %(levelname)6s - %(message)s',\n",
    "                        level=logging.DEBUG, datefmt='%H:%M:%S')\n",
    "    \n",
    "    args0 = deepcopy(args)\n",
    "    args0.lr = lr\n",
    "    args0.regularization = reg\n",
    "    args0.dropout = do\n",
    "    args0.cuda = cuda\n",
    "    \n",
    "    (nlcnn_model, train_loss, train_f1, val_f1) = train(args, save_dir=log_dir)\n",
    "    with open(join(log_dir, \"loss_f1.pkl\"), 'wb') as fpkl:\n",
    "        pickle.dump((train_loss, train_f1, val_f1), fpkl)\n",
    "        \n",
    "    print(\"lr={:1.1e}, reg={:1.1e}, do={:1.2f} ==> loss={:.3f}, train F1={:.2%}, val F1 = {:.2%}\".format( \\\n",
    "        lr, reg, do, train_loss[-1], train_f1[-1], val_f1[-1]))"
   ]
  },
  {
   "cell_type": "code",
   "execution_count": 12,
   "metadata": {
    "collapsed": false
   },
   "outputs": [],
   "source": [
    "learning_rate = [5e-5, 7e-5, 1e-4, 3e-4, 5e-4, 7e-4, 1e-3]\n",
    "regularization = [1e-6, 5e-6, 1e-5, 5e-5, 1e-4, 5e-4, 1e-3, 5e-3]\n",
    "dropout = [0, 0.25, 0.5, 0.75]\n",
    "\n",
    "for lr in learning_rate:\n",
    "    for do in dropout:\n",
    "        processes = []\n",
    "        for (i, reg) in enumerate(regularization):\n",
    "            p = mp.Process(target=try_model, args=(lr, reg, do, i))\n",
    "            p.start()\n",
    "            processes.append(p)\n",
    "        for p in processes:\n",
    "            p.join()"
   ]
  }
 ],
 "metadata": {
  "kernelspec": {
   "display_name": "Python 3",
   "language": "python",
   "name": "python3"
  },
  "language_info": {
   "codemirror_mode": {
    "name": "ipython",
    "version": 3
   },
   "file_extension": ".py",
   "mimetype": "text/x-python",
   "name": "python",
   "nbconvert_exporter": "python",
   "pygments_lexer": "ipython3",
   "version": "3.6.0"
  }
 },
 "nbformat": 4,
 "nbformat_minor": 2
}
